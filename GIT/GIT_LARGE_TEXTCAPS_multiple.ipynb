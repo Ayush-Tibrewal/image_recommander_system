{
  "cells": [
    {
      "cell_type": "markdown",
      "metadata": {
        "id": "view-in-github",
        "colab_type": "text"
      },
      "source": [
        "<a href=\"https://colab.research.google.com/github/christopherGuan/image_recommander_system/blob/main/GIT_LARGE_TEXTCAPS_multiple.ipynb\" target=\"_parent\"><img src=\"https://colab.research.google.com/assets/colab-badge.svg\" alt=\"Open In Colab\"/></a>"
      ]
    },
    {
      "cell_type": "code",
      "execution_count": 1,
      "metadata": {
        "id": "YTWbd1Vylaf6",
        "colab": {
          "base_uri": "https://localhost:8080/",
          "height": 383
        },
        "outputId": "0d658af9-04e7-429d-c54b-f81ca64987c3"
      },
      "outputs": [
        {
          "output_type": "stream",
          "name": "stdout",
          "text": [
            "Thu May 18 01:30:09 2023       \n",
            "+-----------------------------------------------------------------------------+\n",
            "| NVIDIA-SMI 525.85.12    Driver Version: 525.85.12    CUDA Version: 12.0     |\n",
            "|-------------------------------+----------------------+----------------------+\n",
            "| GPU  Name        Persistence-M| Bus-Id        Disp.A | Volatile Uncorr. ECC |\n",
            "| Fan  Temp  Perf  Pwr:Usage/Cap|         Memory-Usage | GPU-Util  Compute M. |\n",
            "|                               |                      |               MIG M. |\n",
            "|===============================+======================+======================|\n",
            "|   0  Tesla T4            Off  | 00000000:00:04.0 Off |                    0 |\n",
            "| N/A   63C    P8    10W /  70W |      0MiB / 15360MiB |      0%      Default |\n",
            "|                               |                      |                  N/A |\n",
            "+-------------------------------+----------------------+----------------------+\n",
            "                                                                               \n",
            "+-----------------------------------------------------------------------------+\n",
            "| Processes:                                                                  |\n",
            "|  GPU   GI   CI        PID   Type   Process name                  GPU Memory |\n",
            "|        ID   ID                                                   Usage      |\n",
            "|=============================================================================|\n",
            "|  No running processes found                                                 |\n",
            "+-----------------------------------------------------------------------------+\n"
          ]
        },
        {
          "output_type": "execute_result",
          "data": {
            "text/plain": [
              "'/device:GPU:0'"
            ],
            "application/vnd.google.colaboratory.intrinsic+json": {
              "type": "string"
            }
          },
          "metadata": {},
          "execution_count": 1
        }
      ],
      "source": [
        "#%%capture\n",
        "!nvidia-smi\n",
        "import torch\n",
        "torch.cuda.is_available()\n",
        "import tensorflow as tf\n",
        "tf.test.gpu_device_name()"
      ]
    },
    {
      "cell_type": "markdown",
      "metadata": {
        "id": "Mn1M8SbA2nXj"
      },
      "source": [
        "## Build Up Environment"
      ]
    },
    {
      "cell_type": "code",
      "execution_count": 2,
      "metadata": {
        "id": "6iUkNjuvOcag"
      },
      "outputs": [],
      "source": [
        "%%capture\n",
        "!wget 'https://aka.ms/downloadazcopy-v10-linux'\n",
        "!mv downloadazcopy-v10-linux downloadazcopy-v10-linux.tar.gz\n",
        "!tar -xf downloadazcopy-v10-linux.tar.gz\n",
        "%mv azcopy_linux_amd64_10.18.1/azcopy /usr/bin/\n",
        "!rm downloadazcopy-v10-linux.tar.gz -r azcopy_linux_amd64_10.18.1"
      ]
    },
    {
      "cell_type": "code",
      "execution_count": 3,
      "metadata": {
        "id": "d5i30BEqSslK"
      },
      "outputs": [],
      "source": [
        "%%capture\n",
        "!pip install git+https://github.com/microsoft/azfuse.git"
      ]
    },
    {
      "cell_type": "code",
      "execution_count": 4,
      "metadata": {
        "id": "akSkN7yUl-3A"
      },
      "outputs": [],
      "source": [
        "%%capture\n",
        "!git clone https://github.com/microsoft/GenerativeImage2Text.git\n",
        "%cd GenerativeImage2Text"
      ]
    },
    {
      "cell_type": "code",
      "execution_count": 5,
      "metadata": {
        "id": "EHdLxe4ywBft"
      },
      "outputs": [],
      "source": [
        "%%capture\n",
        "!pip install -r requirements.txt"
      ]
    },
    {
      "cell_type": "code",
      "execution_count": 6,
      "metadata": {
        "id": "e1QMFIj5wtzk"
      },
      "outputs": [],
      "source": [
        "%%capture\n",
        "!python setup.py build develop"
      ]
    },
    {
      "cell_type": "markdown",
      "source": [
        "## Generate one caption for one image"
      ],
      "metadata": {
        "id": "CP4HHh0gsp63"
      }
    },
    {
      "cell_type": "code",
      "execution_count": 8,
      "metadata": {
        "id": "67d8EQdvaczu",
        "colab": {
          "base_uri": "https://localhost:8080/"
        },
        "outputId": "2a8264e6-d837-45af-909b-cb4d6509c730"
      },
      "outputs": [
        {
          "output_type": "stream",
          "name": "stdout",
          "text": [
            "2023-05-18 01:34:25.395419: W tensorflow/compiler/tf2tensorrt/utils/py_utils.cc:38] TF-TRT Warning: Could not find TensorRT\n",
            "a view of a mountain with a forest in the background.\n"
          ]
        }
      ],
      "source": [
        "!AZFUSE_TSV_USE_FUSE=1 python -m generativeimage2text.inference -p \"{'type': 'test_git_inference_single_image', \\\n",
        "        'image_path': 'aux_data/images/2.jpg', \\\n",
        "        'model_name': 'GIT_LARGE_TEXTCAPS', \\\n",
        "        'prefix': '', \\\n",
        "  }\""
      ]
    },
    {
      "cell_type": "markdown",
      "source": [
        "## Generate multiple caption for multiple image"
      ],
      "metadata": {
        "id": "vt0q0nAcuJAg"
      }
    },
    {
      "cell_type": "code",
      "source": [
        "#Multiple captions for multiple images\n",
        "!AZFUSE_TSV_USE_FUSE=1 python -m generativeimage2text.inference -p \"{'type': 'test_git_inference_multiple_image', \\\n",
        "        'image_path': 'aux_data/images/', \\\n",
        "        'model_name': 'GIT_LARGE_TEXTCAPS', \\\n",
        "        'prefix': '', \\\n",
        "  }\""
      ],
      "metadata": {
        "colab": {
          "base_uri": "https://localhost:8080/"
        },
        "id": "IP0_mWE96hob",
        "outputId": "9918ffe1-07c5-4071-97a8-eb6a56f45e2a"
      },
      "execution_count": 11,
      "outputs": [
        {
          "output_type": "stream",
          "name": "stdout",
          "text": [
            "2023-05-18 01:46:58.066602: W tensorflow/compiler/tf2tensorrt/utils/py_utils.cc:38] TF-TRT Warning: Could not find TensorRT\n"
          ]
        }
      ]
    },
    {
      "cell_type": "markdown",
      "source": [
        "## Unzip image folder"
      ],
      "metadata": {
        "id": "vTcEw_cHsmlm"
      }
    },
    {
      "cell_type": "code",
      "source": [
        "%cd .."
      ],
      "metadata": {
        "colab": {
          "base_uri": "https://localhost:8080/"
        },
        "id": "oBNg2spprYuC",
        "outputId": "0746dbcd-6a0d-43c6-dd54-2dbd7deef415"
      },
      "execution_count": null,
      "outputs": [
        {
          "output_type": "stream",
          "name": "stdout",
          "text": [
            "/content\n"
          ]
        }
      ]
    },
    {
      "cell_type": "code",
      "source": [
        "!unzip -qq coco_dup_300.zip"
      ],
      "metadata": {
        "colab": {
          "base_uri": "https://localhost:8080/"
        },
        "id": "5AdteRAlr2C4",
        "outputId": "e6aedd7a-fae2-4ff2-f008-061e8264d73f"
      },
      "execution_count": null,
      "outputs": [
        {
          "output_type": "stream",
          "name": "stdout",
          "text": [
            "replace __MACOSX/._coco_dup_300? [y]es, [n]o, [A]ll, [N]one, [r]ename: y\n",
            "replace __MACOSX/coco_dup_300/._000000274659.jpg? [y]es, [n]o, [A]ll, [N]one, [r]ename: a\n",
            "error:  invalid response [a]\n",
            "replace __MACOSX/coco_dup_300/._000000274659.jpg? [y]es, [n]o, [A]ll, [N]one, [r]ename: A\n"
          ]
        }
      ]
    },
    {
      "cell_type": "code",
      "source": [
        "!mv coco_dup_300 GenerativeImage2Text/aux_data"
      ],
      "metadata": {
        "id": "I8wTtC1Lq0Qc"
      },
      "execution_count": null,
      "outputs": []
    },
    {
      "cell_type": "code",
      "source": [
        "%%capture\n",
        "!AZFUSE_TSV_USE_FUSE=1 python -m generativeimage2text.inference -p \"{'type': 'test_git_inference_multiple_image', \\\n",
        "        'image_path': 'aux_data/coco_dup_300/', \\\n",
        "        'model_name': 'GIT_LARGE_TEXTCAPS', \\\n",
        "        'prefix': '', \\\n",
        "  }\""
      ],
      "metadata": {
        "id": "pSfiszQso6yu"
      },
      "execution_count": null,
      "outputs": []
    },
    {
      "cell_type": "markdown",
      "source": [
        "## Another method to generate multiple captions"
      ],
      "metadata": {
        "id": "rruNytdMuZs1"
      }
    },
    {
      "cell_type": "code",
      "execution_count": 13,
      "metadata": {
        "colab": {
          "base_uri": "https://localhost:8080/"
        },
        "id": "rQl4L8mH4N7J",
        "outputId": "bef0952c-828f-4a1e-875d-52358af3f572"
      },
      "outputs": [
        {
          "output_type": "stream",
          "name": "stdout",
          "text": [
            "2023-05-18 01:51:12.739355: W tensorflow/compiler/tf2tensorrt/utils/py_utils.cc:38] TF-TRT Warning: Could not find TensorRT\n",
            "2023-05-18 01:51:45.415174: W tensorflow/compiler/tf2tensorrt/utils/py_utils.cc:38] TF-TRT Warning: Could not find TensorRT\n"
          ]
        },
        {
          "output_type": "execute_result",
          "data": {
            "text/plain": []
          },
          "metadata": {},
          "execution_count": 13
        }
      ],
      "source": [
        "%%shell\n",
        "\n",
        "for i in {1..2}\n",
        "do\n",
        "   echo $i\n",
        "   AZFUSE_TSV_USE_FUSE=1 python -m generativeimage2text.inference -p \"{'type': 'test_git_inference_single_image', \\\n",
        "        'image_path': ['aux_data/images/$i.jpg'], \\\n",
        "        'model_name': 'GIT_LARGE_TEXTCAPS', \\\n",
        "        'prefix': '', \\\n",
        "  }\"\n",
        "done > large_textcaps_2.csv"
      ]
    },
    {
      "cell_type": "code",
      "execution_count": null,
      "metadata": {
        "colab": {
          "base_uri": "https://localhost:8080/",
          "height": 71
        },
        "id": "AXEB0VWBBPzj",
        "outputId": "403e510e-9ba5-4f1f-95b4-939a8dbffb46"
      },
      "outputs": [
        {
          "data": {
            "text/html": [
              "\n",
              "     <input type=\"file\" id=\"files-22d7ff17-fd13-44ed-a425-16097ae83c37\" name=\"files[]\" multiple disabled\n",
              "        style=\"border:none\" />\n",
              "     <output id=\"result-22d7ff17-fd13-44ed-a425-16097ae83c37\">\n",
              "      Upload widget is only available when the cell has been executed in the\n",
              "      current browser session. Please rerun this cell to enable.\n",
              "      </output>\n",
              "      <script>// Copyright 2017 Google LLC\n",
              "//\n",
              "// Licensed under the Apache License, Version 2.0 (the \"License\");\n",
              "// you may not use this file except in compliance with the License.\n",
              "// You may obtain a copy of the License at\n",
              "//\n",
              "//      http://www.apache.org/licenses/LICENSE-2.0\n",
              "//\n",
              "// Unless required by applicable law or agreed to in writing, software\n",
              "// distributed under the License is distributed on an \"AS IS\" BASIS,\n",
              "// WITHOUT WARRANTIES OR CONDITIONS OF ANY KIND, either express or implied.\n",
              "// See the License for the specific language governing permissions and\n",
              "// limitations under the License.\n",
              "\n",
              "/**\n",
              " * @fileoverview Helpers for google.colab Python module.\n",
              " */\n",
              "(function(scope) {\n",
              "function span(text, styleAttributes = {}) {\n",
              "  const element = document.createElement('span');\n",
              "  element.textContent = text;\n",
              "  for (const key of Object.keys(styleAttributes)) {\n",
              "    element.style[key] = styleAttributes[key];\n",
              "  }\n",
              "  return element;\n",
              "}\n",
              "\n",
              "// Max number of bytes which will be uploaded at a time.\n",
              "const MAX_PAYLOAD_SIZE = 100 * 1024;\n",
              "\n",
              "function _uploadFiles(inputId, outputId) {\n",
              "  const steps = uploadFilesStep(inputId, outputId);\n",
              "  const outputElement = document.getElementById(outputId);\n",
              "  // Cache steps on the outputElement to make it available for the next call\n",
              "  // to uploadFilesContinue from Python.\n",
              "  outputElement.steps = steps;\n",
              "\n",
              "  return _uploadFilesContinue(outputId);\n",
              "}\n",
              "\n",
              "// This is roughly an async generator (not supported in the browser yet),\n",
              "// where there are multiple asynchronous steps and the Python side is going\n",
              "// to poll for completion of each step.\n",
              "// This uses a Promise to block the python side on completion of each step,\n",
              "// then passes the result of the previous step as the input to the next step.\n",
              "function _uploadFilesContinue(outputId) {\n",
              "  const outputElement = document.getElementById(outputId);\n",
              "  const steps = outputElement.steps;\n",
              "\n",
              "  const next = steps.next(outputElement.lastPromiseValue);\n",
              "  return Promise.resolve(next.value.promise).then((value) => {\n",
              "    // Cache the last promise value to make it available to the next\n",
              "    // step of the generator.\n",
              "    outputElement.lastPromiseValue = value;\n",
              "    return next.value.response;\n",
              "  });\n",
              "}\n",
              "\n",
              "/**\n",
              " * Generator function which is called between each async step of the upload\n",
              " * process.\n",
              " * @param {string} inputId Element ID of the input file picker element.\n",
              " * @param {string} outputId Element ID of the output display.\n",
              " * @return {!Iterable<!Object>} Iterable of next steps.\n",
              " */\n",
              "function* uploadFilesStep(inputId, outputId) {\n",
              "  const inputElement = document.getElementById(inputId);\n",
              "  inputElement.disabled = false;\n",
              "\n",
              "  const outputElement = document.getElementById(outputId);\n",
              "  outputElement.innerHTML = '';\n",
              "\n",
              "  const pickedPromise = new Promise((resolve) => {\n",
              "    inputElement.addEventListener('change', (e) => {\n",
              "      resolve(e.target.files);\n",
              "    });\n",
              "  });\n",
              "\n",
              "  const cancel = document.createElement('button');\n",
              "  inputElement.parentElement.appendChild(cancel);\n",
              "  cancel.textContent = 'Cancel upload';\n",
              "  const cancelPromise = new Promise((resolve) => {\n",
              "    cancel.onclick = () => {\n",
              "      resolve(null);\n",
              "    };\n",
              "  });\n",
              "\n",
              "  // Wait for the user to pick the files.\n",
              "  const files = yield {\n",
              "    promise: Promise.race([pickedPromise, cancelPromise]),\n",
              "    response: {\n",
              "      action: 'starting',\n",
              "    }\n",
              "  };\n",
              "\n",
              "  cancel.remove();\n",
              "\n",
              "  // Disable the input element since further picks are not allowed.\n",
              "  inputElement.disabled = true;\n",
              "\n",
              "  if (!files) {\n",
              "    return {\n",
              "      response: {\n",
              "        action: 'complete',\n",
              "      }\n",
              "    };\n",
              "  }\n",
              "\n",
              "  for (const file of files) {\n",
              "    const li = document.createElement('li');\n",
              "    li.append(span(file.name, {fontWeight: 'bold'}));\n",
              "    li.append(span(\n",
              "        `(${file.type || 'n/a'}) - ${file.size} bytes, ` +\n",
              "        `last modified: ${\n",
              "            file.lastModifiedDate ? file.lastModifiedDate.toLocaleDateString() :\n",
              "                                    'n/a'} - `));\n",
              "    const percent = span('0% done');\n",
              "    li.appendChild(percent);\n",
              "\n",
              "    outputElement.appendChild(li);\n",
              "\n",
              "    const fileDataPromise = new Promise((resolve) => {\n",
              "      const reader = new FileReader();\n",
              "      reader.onload = (e) => {\n",
              "        resolve(e.target.result);\n",
              "      };\n",
              "      reader.readAsArrayBuffer(file);\n",
              "    });\n",
              "    // Wait for the data to be ready.\n",
              "    let fileData = yield {\n",
              "      promise: fileDataPromise,\n",
              "      response: {\n",
              "        action: 'continue',\n",
              "      }\n",
              "    };\n",
              "\n",
              "    // Use a chunked sending to avoid message size limits. See b/62115660.\n",
              "    let position = 0;\n",
              "    do {\n",
              "      const length = Math.min(fileData.byteLength - position, MAX_PAYLOAD_SIZE);\n",
              "      const chunk = new Uint8Array(fileData, position, length);\n",
              "      position += length;\n",
              "\n",
              "      const base64 = btoa(String.fromCharCode.apply(null, chunk));\n",
              "      yield {\n",
              "        response: {\n",
              "          action: 'append',\n",
              "          file: file.name,\n",
              "          data: base64,\n",
              "        },\n",
              "      };\n",
              "\n",
              "      let percentDone = fileData.byteLength === 0 ?\n",
              "          100 :\n",
              "          Math.round((position / fileData.byteLength) * 100);\n",
              "      percent.textContent = `${percentDone}% done`;\n",
              "\n",
              "    } while (position < fileData.byteLength);\n",
              "  }\n",
              "\n",
              "  // All done.\n",
              "  yield {\n",
              "    response: {\n",
              "      action: 'complete',\n",
              "    }\n",
              "  };\n",
              "}\n",
              "\n",
              "scope.google = scope.google || {};\n",
              "scope.google.colab = scope.google.colab || {};\n",
              "scope.google.colab._files = {\n",
              "  _uploadFiles,\n",
              "  _uploadFilesContinue,\n",
              "};\n",
              "})(self);\n",
              "</script> "
            ],
            "text/plain": [
              "<IPython.core.display.HTML object>"
            ]
          },
          "metadata": {},
          "output_type": "display_data"
        },
        {
          "name": "stdout",
          "output_type": "stream",
          "text": [
            "Saving images_num.zip to images_num.zip\n"
          ]
        }
      ],
      "source": [
        "#upload 50 prepared images\n",
        "import pandas as pd\n",
        "import io\n",
        "from google.colab import files\n",
        "uploaded = files.upload()\n",
        "!unzip -qq images_num.zip\n",
        "!mv images_num aux_data"
      ]
    },
    {
      "cell_type": "code",
      "execution_count": null,
      "metadata": {
        "colab": {
          "base_uri": "https://localhost:8080/"
        },
        "id": "LQWsCDZIelsl",
        "outputId": "226845d6-0684-420c-be1e-68e40dd99aac"
      },
      "outputs": [
        {
          "data": {
            "text/plain": []
          },
          "execution_count": 12,
          "metadata": {},
          "output_type": "execute_result"
        }
      ],
      "source": [
        "%%shell\n",
        "for i in {51..60}\n",
        "do\n",
        "   AZFUSE_TSV_USE_FUSE=1 python -m generativeimage2text.inference -p \"{'type': 'test_git_inference_single_image', \\\n",
        "        'image_path': ['aux_data/images_num/$i.jpg'], \\\n",
        "        'model_name': 'GIT_LARGE_TEXTCAPS', \\\n",
        "        'prefix': '', \\\n",
        "  }\"\n",
        "done > large_textcaps_60.csv"
      ]
    },
    {
      "cell_type": "code",
      "execution_count": null,
      "metadata": {
        "colab": {
          "base_uri": "https://localhost:8080/",
          "height": 17
        },
        "id": "kxDQ_D6qgbIJ",
        "outputId": "11839a69-7481-418a-e8a6-0855c51b83a9"
      },
      "outputs": [
        {
          "data": {
            "application/javascript": [
              "\n",
              "    async function download(id, filename, size) {\n",
              "      if (!google.colab.kernel.accessAllowed) {\n",
              "        return;\n",
              "      }\n",
              "      const div = document.createElement('div');\n",
              "      const label = document.createElement('label');\n",
              "      label.textContent = `Downloading \"${filename}\": `;\n",
              "      div.appendChild(label);\n",
              "      const progress = document.createElement('progress');\n",
              "      progress.max = size;\n",
              "      div.appendChild(progress);\n",
              "      document.body.appendChild(div);\n",
              "\n",
              "      const buffers = [];\n",
              "      let downloaded = 0;\n",
              "\n",
              "      const channel = await google.colab.kernel.comms.open(id);\n",
              "      // Send a message to notify the kernel that we're ready.\n",
              "      channel.send({})\n",
              "\n",
              "      for await (const message of channel.messages) {\n",
              "        // Send a message to notify the kernel that we're ready.\n",
              "        channel.send({})\n",
              "        if (message.buffers) {\n",
              "          for (const buffer of message.buffers) {\n",
              "            buffers.push(buffer);\n",
              "            downloaded += buffer.byteLength;\n",
              "            progress.value = downloaded;\n",
              "          }\n",
              "        }\n",
              "      }\n",
              "      const blob = new Blob(buffers, {type: 'application/binary'});\n",
              "      const a = document.createElement('a');\n",
              "      a.href = window.URL.createObjectURL(blob);\n",
              "      a.download = filename;\n",
              "      div.appendChild(a);\n",
              "      a.click();\n",
              "      div.remove();\n",
              "    }\n",
              "  "
            ],
            "text/plain": [
              "<IPython.core.display.Javascript object>"
            ]
          },
          "metadata": {},
          "output_type": "display_data"
        },
        {
          "data": {
            "application/javascript": [
              "download(\"download_955652fd-02d8-4c0e-8135-38e62ab04cbd\", \"large_textcaps_60.csv\", 552)"
            ],
            "text/plain": [
              "<IPython.core.display.Javascript object>"
            ]
          },
          "metadata": {},
          "output_type": "display_data"
        }
      ],
      "source": [
        "files.download('large_textcaps_60.csv')"
      ]
    },
    {
      "cell_type": "markdown",
      "metadata": {
        "id": "WO-N4OGN2fZO"
      },
      "source": [
        "## Train Model\n",
        "\n",
        "use the base model in another file"
      ]
    },
    {
      "cell_type": "code",
      "execution_count": null,
      "metadata": {
        "colab": {
          "base_uri": "https://localhost:8080/"
        },
        "id": "Tpwxqdeh3LLD",
        "outputId": "6cfb1945-2b2d-445e-a89a-8ad7dbbf42c0"
      },
      "outputs": [
        {
          "name": "stdout",
          "output_type": "stream",
          "text": [
            "2023-01-05 23:02:11,062.062 34550:train.py:309   <module>(): param:\n",
            "{'captions': ['Shen Yum Performing Arts logo with a yellow background.'],\n",
            " 'image_files': ['aux_data/images/3.jpg'],\n",
            " 'model_name': 'GIT_LARGE_TEXTCAPS',\n",
            " 'type': 'forward_backward_example'}\n",
            "Traceback (most recent call last):\n",
            "  File \"/usr/lib/python3.8/runpy.py\", line 194, in _run_module_as_main\n",
            "    return _run_code(code, main_globals, None,\n",
            "  File \"/usr/lib/python3.8/runpy.py\", line 87, in _run_code\n",
            "    exec(code, run_globals)\n",
            "  File \"/content/GenerativeImage2Text/generativeimage2text/train.py\", line 312, in <module>\n",
            "    locals()[function_name](**kwargs)\n",
            "TypeError: forward_backward_example() got an unexpected keyword argument 'model_name'\n"
          ]
        }
      ],
      "source": [
        "!python -m generativeimage2text.train -p \"{'type': 'forward_backward_example', \\\n",
        "                'image_files': ['aux_data/images/3.jpg'], \\\n",
        "                'captions': ['Shen Yum Performing Arts logo with a yellow background.'], \\\n",
        "            }\""
      ]
    },
    {
      "cell_type": "code",
      "execution_count": null,
      "metadata": {
        "colab": {
          "base_uri": "https://localhost:8080/"
        },
        "id": "rXDPkIFgMUu5",
        "outputId": "f36e2dd9-7456-432c-f9c2-4e7ec5b6e3a7"
      },
      "outputs": [
        {
          "name": "stdout",
          "output_type": "stream",
          "text": [
            "tcmalloc: large alloc 1933754368 bytes == 0x45450000 @  0x7f852b94b1e7 0x4d30a0 0x5dede2 0x61033f 0x5aab9b 0x47c416 0x6170f1 0x4f7916 0x4997a2 0x5d8868 0x4990ca 0x55d078 0x5d8941 0x5d8416 0x55f797 0x55cd91 0x55d743 0x627376 0x5aaeb9 0x4990ca 0x55cd91 0x5d8941 0x4990ca 0x55cd91 0x5d8941 0x5d8506 0x677b11 0x677c54 0x678029 0x7f852b548c87 0x5e1baa\n",
            "extra large movie poster image\n"
          ]
        }
      ],
      "source": [
        "!AZFUSE_TSV_USE_FUSE=1 python -m generativeimage2text.inference -p \"{'type': 'test_git_inference_single_image', \\\n",
        "      'image_path': 'aux_data/images/mov.jpg', \\\n",
        "      'model_name': 'GIT_BASE', \\\n",
        "      'prefix': '', \\\n",
        "}\""
      ]
    },
    {
      "cell_type": "code",
      "execution_count": null,
      "metadata": {
        "colab": {
          "base_uri": "https://localhost:8080/"
        },
        "id": "KusESF_MCAgV",
        "outputId": "4a719685-d803-4a37-8d9f-4fdf1f1fdb86"
      },
      "outputs": [
        {
          "name": "stdout",
          "output_type": "stream",
          "text": [
            "a poster for the movie matrix.\n"
          ]
        }
      ],
      "source": [
        "!AZFUSE_TSV_USE_FUSE=1 python -m generativeimage2text.inference -p \"{'type': 'test_git_inference_single_image', \\\n",
        "      'image_path': 'aux_data/images/mov.jpg', \\\n",
        "      'model_name': 'GIT_LARGE_TEXTCAPS', \\\n",
        "      'prefix': '', \\\n",
        "}\""
      ]
    },
    {
      "cell_type": "code",
      "execution_count": null,
      "metadata": {
        "colab": {
          "base_uri": "https://localhost:8080/"
        },
        "id": "JccVfYixiqpy",
        "outputId": "36384d2e-a291-4c2e-fbf4-fb2f21c5667f"
      },
      "outputs": [
        {
          "name": "stdout",
          "output_type": "stream",
          "text": [
            "0,51,253ce025df6ab8c7.jpg\n",
            "1,52,5d2951b34750003f.jpg\n",
            "2,53,af95cc6e5ce4a30c.jpg\n",
            "3,54,04f7e547e9b446c6.jpg\n",
            "4,55,9d1d4f4fbc733656.jpg\n"
          ]
        },
        {
          "data": {
            "text/plain": []
          },
          "execution_count": 11,
          "metadata": {},
          "output_type": "execute_result"
        }
      ],
      "source": [
        "%%shell\n",
        "\n",
        "while read -r file_name;\n",
        "do\n",
        "   echo \"$file_name\"\n",
        "done < <(tail -n +2 test_5.csv)"
      ]
    },
    {
      "cell_type": "markdown",
      "metadata": {
        "id": "xn3sKGqB5aqU"
      },
      "source": [
        "## Save for later"
      ]
    },
    {
      "cell_type": "code",
      "execution_count": null,
      "metadata": {
        "id": "pyNayf3V4ec8"
      },
      "outputs": [],
      "source": [
        "with open('/usr/local/lib/python3.8/dist-packages/torchvision/transforms/transforms.py','r') as file:\n",
        "    data = file.readlines()\n",
        "print(data[329])"
      ]
    },
    {
      "cell_type": "code",
      "execution_count": null,
      "metadata": {
        "id": "Pum2k6hd6_eB"
      },
      "outputs": [],
      "source": [
        "import nltk\n",
        "nltk.download('wordnet')\n",
        "nltk.download('omw-1.4')\n",
        "!python -m generativeimage2text.data_prepare -p \"{'type': 'generate_imagenet_unique_names'}\""
      ]
    }
  ],
  "metadata": {
    "accelerator": "GPU",
    "colab": {
      "collapsed_sections": [
        "WO-N4OGN2fZO",
        "xn3sKGqB5aqU"
      ],
      "provenance": [],
      "include_colab_link": true
    },
    "gpuClass": "standard",
    "kernelspec": {
      "display_name": "Python 3",
      "name": "python3"
    },
    "language_info": {
      "name": "python"
    }
  },
  "nbformat": 4,
  "nbformat_minor": 0
}
