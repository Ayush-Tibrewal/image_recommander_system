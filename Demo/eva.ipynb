{
 "cells": [
  {
   "cell_type": "code",
   "execution_count": 1,
   "metadata": {},
   "outputs": [
    {
     "name": "stderr",
     "output_type": "stream",
     "text": [
      "/Users/chrisguan/Documents/senior_project/spenv/lib/python3.11/site-packages/tqdm/auto.py:21: TqdmWarning: IProgress not found. Please update jupyter and ipywidgets. See https://ipywidgets.readthedocs.io/en/stable/user_install.html\n",
      "  from .autonotebook import tqdm as notebook_tqdm\n"
     ]
    }
   ],
   "source": [
    "import pandas as pd\n",
    "import numpy as np\n",
    "from sklearn.metrics.pairwise import cosine_similarity\n",
    "import os\n",
    "from PIL import Image\n",
    "\n",
    "from sentence_transformers import SentenceTransformer"
   ]
  },
  {
   "cell_type": "code",
   "execution_count": 2,
   "metadata": {},
   "outputs": [],
   "source": [
    "emb_df = pd.read_csv('/Users/chrisguan/Documents/senior_project/demo/ids_embeddings.csv')\n",
    "model = SentenceTransformer('sentence-transformers/all-MiniLM-L6-v2')\n",
    "image = path = '/Users/chrisguan/Documents/senior_project/dataset/new/images/'"
   ]
  },
  {
   "cell_type": "code",
   "execution_count": 35,
   "metadata": {},
   "outputs": [
    {
     "name": "stdout",
     "output_type": "stream",
     "text": [
      "15.jpg Tesla head Elon Musk talks to the press as he arrives to have a look at the construction site of the new Tesla Gigafactory near Berlin, Germany, on Sept. 3, 2020. (Maja Hitij/Getty Images) \n",
      "                       image_id\n",
      "1176                    27.jpg\n",
      "1152                     3.jpg\n",
      "708       c7de460a48b10ae7.jpg\n",
      "755       c508532ae14086e6.jpg\n",
      "591       ac0e54f6aedba900.jpg\n",
      "272           000000052809.jpg\n",
      "370           000000131091.jpg\n",
      "603       b2ce6be8536559bd.jpg\n",
      "1178                    29.jpg\n",
      "673       69356f7c0fe37289.jpg\n",
      "813       3a0241ed6c8b8cf6.jpg\n",
      "924   VizWiz_test_00006459.jpg\n",
      "1160                    11.jpg\n",
      "614       bbf041d137d07ac2.jpg\n",
      "242           000000393581.jpg\n",
      "652       b523700ead34cac5.jpg\n",
      "1181                    32.jpg\n",
      "572       eee3efc124e9d99d.jpg\n",
      "75            000000383421.jpg\n",
      "510           000000300210.jpg\n",
      "436           000000143220.jpg\n",
      "51            000000483840.jpg\n",
      "826       e0168f98bc02af05.jpg\n",
      "247           000000360946.jpg\n",
      "456           000000246995.jpg\n",
      "609       be729d4cffd3ffc9.jpg\n",
      "799       44da3b834ef8d2c2.jpg\n",
      "1051  VizWiz_test_00007070.jpg\n",
      "711       474b8d6588cc3bdc.jpg\n",
      "628       cc944bb87be9aa64.jpg\n",
      "17.jpg Paul Pelosi (L) and then House Minority Leader Nancy Pelosi (D-Calif.) attend the 2018 White House Correspondents' Dinner at Washington Hilton in Washington, on April 28, 2018. (Tasos Katopodis/Getty Images) \n",
      "                       image_id\n",
      "1150                     1.jpg\n",
      "830       35b250dfdb12d1a6.jpg\n",
      "66            000000507376.jpg\n",
      "905   VizWiz_test_00002123.jpg\n",
      "504           000000181743.jpg\n",
      "918   VizWiz_test_00005959.jpg\n",
      "1182                    33.jpg\n",
      "212           000000363300.jpg\n",
      "64            000000356138.jpg\n",
      "183           000000560410.jpg\n",
      "1167                    18.jpg\n",
      "44            000000577465.jpg\n",
      "545           000000083701.jpg\n",
      "169           000000574278.jpg\n",
      "190           000000570790.jpg\n",
      "1039  VizWiz_test_00007053.jpg\n",
      "724       9677f65557d5979b.jpg\n",
      "186           000000441047.jpg\n",
      "125           000000363595.jpg\n",
      "237           000000546431.jpg\n",
      "340           000000128924.jpg\n",
      "282           000000249572.jpg\n",
      "244           000000421989.jpg\n",
      "311           000000160543.jpg\n",
      "45            000000447640.jpg\n",
      "220           000000400350.jpg\n",
      "415           000000274573.jpg\n",
      "851   VizWiz_test_00007623.jpg\n",
      "319           000000294542.jpg\n",
      "124           000000356038.jpg\n",
      "26.jpg Nicolas Chaillan, former Chief Software Officer of the U.S. Air Force and Space Force, in Washington on Oct. 10, 2022. (Jack Wang/The Epoch Times) \n",
      "                       image_id\n",
      "1179                    30.jpg\n",
      "693       dc2b372bb1051e14.jpg\n",
      "665       8599f08a2a445b07.jpg\n",
      "1150                     1.jpg\n",
      "697       26424241e81f5252.jpg\n",
      "645       bf0d3b480d036bf1.jpg\n",
      "569       51b916ccc6d0a408.jpg\n",
      "639       be907cce6918b17b.jpg\n",
      "1160                    11.jpg\n",
      "646       25a16267f34da735.jpg\n",
      "749       5a09fa6e44c76aa4.jpg\n",
      "591       ac0e54f6aedba900.jpg\n",
      "714       b0664da592d7af0d.jpg\n",
      "813       3a0241ed6c8b8cf6.jpg\n",
      "222           000000502070.jpg\n",
      "94            000000513112.jpg\n",
      "1176                    27.jpg\n",
      "983   VizWiz_test_00005940.jpg\n",
      "193           000000530550.jpg\n",
      "165           000000438036.jpg\n",
      "829       4dfe89a63212b3ce.jpg\n",
      "1180                    31.jpg\n",
      "773       a23b65723df2acd8.jpg\n",
      "597       f4fc591f2e5fb660.jpg\n",
      "1170                    21.jpg\n",
      "107           000000410128.jpg\n",
      "256           000000272625.jpg\n",
      "885   VizWiz_test_00003749.jpg\n",
      "924   VizWiz_test_00006459.jpg\n",
      "1173                    24.jpg\n",
      "28.jpg Former House Speaker Newt Gingrich (R-Ga.), in Washington on Oct. 24, 2019. (Samira Bouaou/The Epoch Times) \n",
      "                       image_id\n",
      "1150                     1.jpg\n",
      "1179                    30.jpg\n",
      "44            000000577465.jpg\n",
      "724       9677f65557d5979b.jpg\n",
      "830       35b250dfdb12d1a6.jpg\n",
      "813       3a0241ed6c8b8cf6.jpg\n",
      "686       ef07407d3c363df3.jpg\n",
      "1160                    11.jpg\n",
      "1139  VizWiz_test_00001096.jpg\n",
      "905   VizWiz_test_00002123.jpg\n",
      "231           000000516894.jpg\n",
      "1181                    32.jpg\n",
      "743       130347c8adc30666.jpg\n",
      "1182                    33.jpg\n",
      "680       10b705a4f813b8e4.jpg\n",
      "932   VizWiz_test_00003387.jpg\n",
      "601       c8c48ef0cf980035.jpg\n",
      "674       e9d8b0c277416043.jpg\n",
      "445           000000252767.jpg\n",
      "272           000000052809.jpg\n",
      "791       e5fbd5a7af174644.jpg\n",
      "474           000000168907.jpg\n",
      "714       b0664da592d7af0d.jpg\n",
      "224           000000418464.jpg\n",
      "1021  VizWiz_test_00004887.jpg\n",
      "1161                    12.jpg\n",
      "264           000000057734.jpg\n",
      "106           000000497418.jpg\n",
      "1167                    18.jpg\n",
      "890   VizWiz_test_00005071.jpg\n",
      "29.jpg A screen grab taken from video shows damage to the home of U.S. House Speaker Nancy Pelosi after her husband Paul Pelosi was violently assaulted during a break-in at their house in San Francisco, California, U.S., October 28, 2022. KGO TV via ABC via REUTERS \n",
      "                       image_id\n",
      "254           000000165289.jpg\n",
      "830       35b250dfdb12d1a6.jpg\n",
      "44            000000577465.jpg\n",
      "1150                     1.jpg\n",
      "322           000000164876.jpg\n",
      "112           000000507697.jpg\n",
      "160           000000482396.jpg\n",
      "1184                    35.jpg\n",
      "486           000000038349.jpg\n",
      "185           000000366676.jpg\n",
      "980   VizWiz_test_00007254.jpg\n",
      "45            000000447640.jpg\n",
      "724       9677f65557d5979b.jpg\n",
      "1176                    27.jpg\n",
      "534           000000180861.jpg\n",
      "1151                     2.jpg\n",
      "1072  VizWiz_test_00006124.jpg\n",
      "370           000000131091.jpg\n",
      "1164                    15.jpg\n",
      "91            000000359657.jpg\n",
      "661       a200cb8633527837.jpg\n",
      "708       c7de460a48b10ae7.jpg\n",
      "434           000000212711.jpg\n",
      "715       6530ab035a87a5ee.jpg\n",
      "758       22d4dae7846e36a0.jpg\n",
      "748       a62798c2d094cf6d.jpg\n",
      "809       31f4619227dcbaa2.jpg\n",
      "354           000000298385.jpg\n",
      "428           000000180256.jpg\n",
      "212           000000363300.jpg\n",
      "32.jpg ‘Science Is Real’ Versus Real Science \n",
      "                       image_id\n",
      "434           000000212711.jpg\n",
      "770       04e2cd7a942d424c.jpg\n",
      "591       ac0e54f6aedba900.jpg\n",
      "949   VizWiz_test_00003544.jpg\n",
      "366           000000026628.jpg\n",
      "867   VizWiz_test_00001215.jpg\n",
      "295           000000100007.jpg\n",
      "83            000000558240.jpg\n",
      "603       b2ce6be8536559bd.jpg\n",
      "677       984c93fb9f7c9e15.jpg\n",
      "778       93ba9b30bbb5ef46.jpg\n",
      "425           000000156750.jpg\n",
      "13            000000541276.jpg\n",
      "126           000000507382.jpg\n",
      "1066  VizWiz_test_00000021.jpg\n",
      "529           000000060067.jpg\n",
      "159           000000436160.jpg\n",
      "343           000000108118.jpg\n",
      "898   VizWiz_test_00006915.jpg\n",
      "636       c36e1c503400ee40.jpg\n",
      "136           000000386903.jpg\n",
      "91            000000359657.jpg\n",
      "625       8d152e7807cec289.jpg\n",
      "869   VizWiz_test_00002872.jpg\n",
      "414           000000212681.jpg\n",
      "327           000000041777.jpg\n",
      "266           000000157765.jpg\n",
      "222           000000502070.jpg\n",
      "265           000000146175.jpg\n",
      "791       e5fbd5a7af174644.jpg\n",
      "35.jpg Here’s What’s on the Minds of Some of America’s Richest Families \n",
      "                       image_id\n",
      "724       9677f65557d5979b.jpg\n",
      "802       daebb1d91aa7fdf5.jpg\n",
      "572       eee3efc124e9d99d.jpg\n",
      "1095  VizWiz_test_00005192.jpg\n",
      "220           000000400350.jpg\n",
      "821       eeaba43c4abfce57.jpg\n",
      "949   VizWiz_test_00003544.jpg\n",
      "1035  VizWiz_test_00005755.jpg\n",
      "790       38fc3ffa5a3bb7a6.jpg\n",
      "337           000000313994.jpg\n",
      "186           000000441047.jpg\n",
      "978   VizWiz_test_00004702.jpg\n",
      "830       35b250dfdb12d1a6.jpg\n",
      "786       e8d2c608a68411b3.jpg\n",
      "916   VizWiz_test_00006490.jpg\n",
      "1171                    22.jpg\n",
      "125           000000363595.jpg\n",
      "578       7e9963059c9ee3f4.jpg\n",
      "394           000000292355.jpg\n",
      "758       22d4dae7846e36a0.jpg\n",
      "707       a0f005bbae6e2f11.jpg\n",
      "321           000000035184.jpg\n",
      "1176                    27.jpg\n",
      "1160                    11.jpg\n",
      "1051  VizWiz_test_00007070.jpg\n",
      "1032  VizWiz_test_00007633.jpg\n",
      "1028  VizWiz_test_00004862.jpg\n",
      "395           000000231968.jpg\n",
      "1161                    12.jpg\n",
      "726       22e4f8426a49c9a5.jpg\n",
      "44.jpg The 'Yellow Emperor's Indoor Canon' summarizes the law of human growth and aging, which is mainly related to the law of kidney qi (vital energy) from weak to strong and then from strong to decay. (Shutterstock) \n",
      "                       image_id\n",
      "688       7012af2ef5c41d1c.jpg\n",
      "1090  VizWiz_test_00005046.jpg\n",
      "425           000000156750.jpg\n",
      "637       d3cced159f58fe25.jpg\n",
      "91            000000359657.jpg\n",
      "434           000000212711.jpg\n",
      "1158                     9.jpg\n",
      "559       366e79e4e757ad13.jpg\n",
      "1131  VizWiz_test_00001331.jpg\n",
      "889   VizWiz_test_00007135.jpg\n",
      "937   VizWiz_test_00007697.jpg\n",
      "1026  VizWiz_test_00007404.jpg\n",
      "44            000000577465.jpg\n",
      "684       d7dd430b96e310b4.jpg\n",
      "900   VizWiz_test_00005575.jpg\n",
      "427           000000126337.jpg\n",
      "1032  VizWiz_test_00007633.jpg\n",
      "565       c5e4982e4ff45768.jpg\n",
      "487           000000096337.jpg\n",
      "867   VizWiz_test_00001215.jpg\n",
      "185           000000366676.jpg\n",
      "882   VizWiz_test_00006424.jpg\n",
      "835       ad0b84fa69dbb904.jpg\n",
      "1066  VizWiz_test_00000021.jpg\n",
      "650       0135b7a0b1010c08.jpg\n",
      "812       95e799193121de0a.jpg\n",
      "1117  VizWiz_test_00004894.jpg\n",
      "701       de10074d1d2339d7.jpg\n",
      "1115  VizWiz_test_00004409.jpg\n",
      "756       ad2bc3c8cd570a32.jpg\n",
      "45.jpg Hu Yihsuan, Taiwan dermatologist at the Yes Clinic, said that avoiding dry skin can prevent winter eczema. (Shutterstock) \n",
      "                       image_id\n",
      "1196                    47.jpg\n",
      "911   VizWiz_test_00007768.jpg\n",
      "12            000000400604.jpg\n",
      "1198                    49.jpg\n",
      "1029  VizWiz_test_00004159.jpg\n",
      "903   VizWiz_test_00005104.jpg\n",
      "162           000000488058.jpg\n",
      "491           000000272361.jpg\n",
      "993   VizWiz_test_00004304.jpg\n",
      "523           000000201315.jpg\n",
      "1192                    43.jpg\n",
      "829       4dfe89a63212b3ce.jpg\n",
      "16            000000419221.jpg\n",
      "239           000000452290.jpg\n",
      "1082  VizWiz_test_00006807.jpg\n",
      "139           000000425820.jpg\n",
      "1173                    24.jpg\n",
      "65            000000572281.jpg\n",
      "33            000000513972.jpg\n",
      "506           000000223589.jpg\n",
      "219           000000373233.jpg\n",
      "155           000000428202.jpg\n",
      "880   VizWiz_test_00005310.jpg\n",
      "393           000000321313.jpg\n",
      "151           000000362260.jpg\n",
      "420           000000033549.jpg\n",
      "99            000000483696.jpg\n",
      "761       81da569b065335f6.jpg\n",
      "1052  VizWiz_test_00004113.jpg\n",
      "551       f0e3afe2b18ff87a.jpg\n",
      "46.jpg Everyone needs to nourish the kidney and strengthen the waist to improve. The lumbar muscles are easily strained, the intervertebral disc is herniated, and recurrent pyelonephritis is also a symptom of kidney deficiency.(Shutterstock) \n",
      "                       image_id\n",
      "464           000000181598.jpg\n",
      "187           000000515192.jpg\n",
      "286           000000058883.jpg\n",
      "474           000000168907.jpg\n",
      "24            000000491291.jpg\n",
      "872   VizWiz_test_00005166.jpg\n",
      "309           000000100968.jpg\n",
      "18            000000520498.jpg\n",
      "283           000000252306.jpg\n",
      "587       f5eb535e4b5e8262.jpg\n",
      "288           000000225051.jpg\n",
      "372           000000122477.jpg\n",
      "97            000000567534.jpg\n",
      "231           000000516894.jpg\n",
      "597       f4fc591f2e5fb660.jpg\n",
      "175           000000368417.jpg\n",
      "140           000000413171.jpg\n",
      "215           000000442341.jpg\n",
      "798       58af4f99affa7ff9.jpg\n",
      "906   VizWiz_test_00001268.jpg\n",
      "110           000000543643.jpg\n",
      "550       2ca690d14bf9ae92.jpg\n",
      "937   VizWiz_test_00007697.jpg\n",
      "1122  VizWiz_test_00006276.jpg\n",
      "644       a66d87ba68a50df9.jpg\n",
      "112           000000507697.jpg\n",
      "253           000000058999.jpg\n",
      "688       7012af2ef5c41d1c.jpg\n",
      "371           000000191727.jpg\n",
      "654       2172cda969653b88.jpg\n",
      "50.jpg Natural Treatment for Acne and Fungal Infections \n",
      "                       image_id\n",
      "1196                    47.jpg\n",
      "993   VizWiz_test_00004304.jpg\n",
      "420           000000033549.jpg\n",
      "1141  VizWiz_test_00004292.jpg\n",
      "581       4e893a048022a7b3.jpg\n",
      "1034  VizWiz_test_00001677.jpg\n",
      "779       8df80de2bab6f4cd.jpg\n",
      "998   VizWiz_test_00004958.jpg\n",
      "244           000000421989.jpg\n",
      "283           000000252306.jpg\n",
      "877   VizWiz_test_00000602.jpg\n",
      "55            000000507184.jpg\n",
      "438           000000172259.jpg\n",
      "1109  VizWiz_test_00000017.jpg\n",
      "1063  VizWiz_test_00006159.jpg\n",
      "798       58af4f99affa7ff9.jpg\n",
      "1185                    36.jpg\n",
      "880   VizWiz_test_00005310.jpg\n",
      "415           000000274573.jpg\n",
      "911   VizWiz_test_00007768.jpg\n",
      "905   VizWiz_test_00002123.jpg\n",
      "1006  VizWiz_test_00007465.jpg\n",
      "870   VizWiz_test_00005303.jpg\n",
      "1198                    49.jpg\n",
      "1049  VizWiz_test_00001237.jpg\n",
      "311           000000160543.jpg\n",
      "1029  VizWiz_test_00004159.jpg\n",
      "1043  VizWiz_test_00002691.jpg\n",
      "1091  VizWiz_test_00006987.jpg\n",
      "839       704df7f8d1059b57.jpg\n",
      "29\n"
     ]
    }
   ],
   "source": [
    "import csv\n",
    "\n",
    "filename = '/Users/chrisguan/Documents/senior_project/dataset/original/image50/images/original_caption/eva_eng.csv'\n",
    "\n",
    "with open(filename, 'r', newline='') as file:\n",
    "    reader = csv.DictReader(file)\n",
    "\n",
    "    cout = 0\n",
    "    for i, row in enumerate(reader):\n",
    "\n",
    "        image_name = f\"{i+11}.jpg\"\n",
    "\n",
    "        if row['caption'].startswith(\"(\") and row['caption'].endswith(\")\"):\n",
    "            input = row['subject']\n",
    "        else:\n",
    "            input = row['caption']\n",
    "\n",
    "        embeddings_input = model.encode(input)\n",
    "        \n",
    "        cosine_sims = cosine_similarity(\n",
    "            [embeddings_input],\n",
    "            emb_df.iloc[:, 2:]\n",
    "        )[0]\n",
    "        \n",
    "        top_indices = np.argsort(cosine_sims)[::-1][:30]\n",
    "        top_table = emb_df.iloc[top_indices].copy() \n",
    "        \n",
    "        if top_table['image_id'].str.contains(image_name).any():\n",
    "            cout += 1\n",
    "        else:\n",
    "            print(image_name,input, '\\n',top_table[['image_id']])\n",
    "    print(cout)\n",
    "    "
   ]
  },
  {
   "cell_type": "code",
   "execution_count": 16,
   "metadata": {},
   "outputs": [
    {
     "data": {
      "application/vnd.plotly.v1+json": {
       "config": {
        "plotlyServerURL": "https://plot.ly"
       },
       "data": [
        {
         "marker": {
          "line": {
           "color": "rgb(8,48,107)",
           "width": 1.5
          }
         },
         "opacity": 0.6,
         "orientation": "h",
         "text": [
          "0.35",
          "0.6",
          "0.625",
          "0.725"
         ],
         "textposition": "inside",
         "type": "bar",
         "x": [
          0.35,
          0.6,
          0.625,
          0.725
         ],
         "y": [
          1,
          10,
          20,
          30
         ]
        }
       ],
       "layout": {
        "template": {
         "data": {
          "bar": [
           {
            "error_x": {
             "color": "#2a3f5f"
            },
            "error_y": {
             "color": "#2a3f5f"
            },
            "marker": {
             "line": {
              "color": "#E5ECF6",
              "width": 0.5
             },
             "pattern": {
              "fillmode": "overlay",
              "size": 10,
              "solidity": 0.2
             }
            },
            "type": "bar"
           }
          ],
          "barpolar": [
           {
            "marker": {
             "line": {
              "color": "#E5ECF6",
              "width": 0.5
             },
             "pattern": {
              "fillmode": "overlay",
              "size": 10,
              "solidity": 0.2
             }
            },
            "type": "barpolar"
           }
          ],
          "carpet": [
           {
            "aaxis": {
             "endlinecolor": "#2a3f5f",
             "gridcolor": "white",
             "linecolor": "white",
             "minorgridcolor": "white",
             "startlinecolor": "#2a3f5f"
            },
            "baxis": {
             "endlinecolor": "#2a3f5f",
             "gridcolor": "white",
             "linecolor": "white",
             "minorgridcolor": "white",
             "startlinecolor": "#2a3f5f"
            },
            "type": "carpet"
           }
          ],
          "choropleth": [
           {
            "colorbar": {
             "outlinewidth": 0,
             "ticks": ""
            },
            "type": "choropleth"
           }
          ],
          "contour": [
           {
            "colorbar": {
             "outlinewidth": 0,
             "ticks": ""
            },
            "colorscale": [
             [
              0,
              "#0d0887"
             ],
             [
              0.1111111111111111,
              "#46039f"
             ],
             [
              0.2222222222222222,
              "#7201a8"
             ],
             [
              0.3333333333333333,
              "#9c179e"
             ],
             [
              0.4444444444444444,
              "#bd3786"
             ],
             [
              0.5555555555555556,
              "#d8576b"
             ],
             [
              0.6666666666666666,
              "#ed7953"
             ],
             [
              0.7777777777777778,
              "#fb9f3a"
             ],
             [
              0.8888888888888888,
              "#fdca26"
             ],
             [
              1,
              "#f0f921"
             ]
            ],
            "type": "contour"
           }
          ],
          "contourcarpet": [
           {
            "colorbar": {
             "outlinewidth": 0,
             "ticks": ""
            },
            "type": "contourcarpet"
           }
          ],
          "heatmap": [
           {
            "colorbar": {
             "outlinewidth": 0,
             "ticks": ""
            },
            "colorscale": [
             [
              0,
              "#0d0887"
             ],
             [
              0.1111111111111111,
              "#46039f"
             ],
             [
              0.2222222222222222,
              "#7201a8"
             ],
             [
              0.3333333333333333,
              "#9c179e"
             ],
             [
              0.4444444444444444,
              "#bd3786"
             ],
             [
              0.5555555555555556,
              "#d8576b"
             ],
             [
              0.6666666666666666,
              "#ed7953"
             ],
             [
              0.7777777777777778,
              "#fb9f3a"
             ],
             [
              0.8888888888888888,
              "#fdca26"
             ],
             [
              1,
              "#f0f921"
             ]
            ],
            "type": "heatmap"
           }
          ],
          "heatmapgl": [
           {
            "colorbar": {
             "outlinewidth": 0,
             "ticks": ""
            },
            "colorscale": [
             [
              0,
              "#0d0887"
             ],
             [
              0.1111111111111111,
              "#46039f"
             ],
             [
              0.2222222222222222,
              "#7201a8"
             ],
             [
              0.3333333333333333,
              "#9c179e"
             ],
             [
              0.4444444444444444,
              "#bd3786"
             ],
             [
              0.5555555555555556,
              "#d8576b"
             ],
             [
              0.6666666666666666,
              "#ed7953"
             ],
             [
              0.7777777777777778,
              "#fb9f3a"
             ],
             [
              0.8888888888888888,
              "#fdca26"
             ],
             [
              1,
              "#f0f921"
             ]
            ],
            "type": "heatmapgl"
           }
          ],
          "histogram": [
           {
            "marker": {
             "pattern": {
              "fillmode": "overlay",
              "size": 10,
              "solidity": 0.2
             }
            },
            "type": "histogram"
           }
          ],
          "histogram2d": [
           {
            "colorbar": {
             "outlinewidth": 0,
             "ticks": ""
            },
            "colorscale": [
             [
              0,
              "#0d0887"
             ],
             [
              0.1111111111111111,
              "#46039f"
             ],
             [
              0.2222222222222222,
              "#7201a8"
             ],
             [
              0.3333333333333333,
              "#9c179e"
             ],
             [
              0.4444444444444444,
              "#bd3786"
             ],
             [
              0.5555555555555556,
              "#d8576b"
             ],
             [
              0.6666666666666666,
              "#ed7953"
             ],
             [
              0.7777777777777778,
              "#fb9f3a"
             ],
             [
              0.8888888888888888,
              "#fdca26"
             ],
             [
              1,
              "#f0f921"
             ]
            ],
            "type": "histogram2d"
           }
          ],
          "histogram2dcontour": [
           {
            "colorbar": {
             "outlinewidth": 0,
             "ticks": ""
            },
            "colorscale": [
             [
              0,
              "#0d0887"
             ],
             [
              0.1111111111111111,
              "#46039f"
             ],
             [
              0.2222222222222222,
              "#7201a8"
             ],
             [
              0.3333333333333333,
              "#9c179e"
             ],
             [
              0.4444444444444444,
              "#bd3786"
             ],
             [
              0.5555555555555556,
              "#d8576b"
             ],
             [
              0.6666666666666666,
              "#ed7953"
             ],
             [
              0.7777777777777778,
              "#fb9f3a"
             ],
             [
              0.8888888888888888,
              "#fdca26"
             ],
             [
              1,
              "#f0f921"
             ]
            ],
            "type": "histogram2dcontour"
           }
          ],
          "mesh3d": [
           {
            "colorbar": {
             "outlinewidth": 0,
             "ticks": ""
            },
            "type": "mesh3d"
           }
          ],
          "parcoords": [
           {
            "line": {
             "colorbar": {
              "outlinewidth": 0,
              "ticks": ""
             }
            },
            "type": "parcoords"
           }
          ],
          "pie": [
           {
            "automargin": true,
            "type": "pie"
           }
          ],
          "scatter": [
           {
            "fillpattern": {
             "fillmode": "overlay",
             "size": 10,
             "solidity": 0.2
            },
            "type": "scatter"
           }
          ],
          "scatter3d": [
           {
            "line": {
             "colorbar": {
              "outlinewidth": 0,
              "ticks": ""
             }
            },
            "marker": {
             "colorbar": {
              "outlinewidth": 0,
              "ticks": ""
             }
            },
            "type": "scatter3d"
           }
          ],
          "scattercarpet": [
           {
            "marker": {
             "colorbar": {
              "outlinewidth": 0,
              "ticks": ""
             }
            },
            "type": "scattercarpet"
           }
          ],
          "scattergeo": [
           {
            "marker": {
             "colorbar": {
              "outlinewidth": 0,
              "ticks": ""
             }
            },
            "type": "scattergeo"
           }
          ],
          "scattergl": [
           {
            "marker": {
             "colorbar": {
              "outlinewidth": 0,
              "ticks": ""
             }
            },
            "type": "scattergl"
           }
          ],
          "scattermapbox": [
           {
            "marker": {
             "colorbar": {
              "outlinewidth": 0,
              "ticks": ""
             }
            },
            "type": "scattermapbox"
           }
          ],
          "scatterpolar": [
           {
            "marker": {
             "colorbar": {
              "outlinewidth": 0,
              "ticks": ""
             }
            },
            "type": "scatterpolar"
           }
          ],
          "scatterpolargl": [
           {
            "marker": {
             "colorbar": {
              "outlinewidth": 0,
              "ticks": ""
             }
            },
            "type": "scatterpolargl"
           }
          ],
          "scatterternary": [
           {
            "marker": {
             "colorbar": {
              "outlinewidth": 0,
              "ticks": ""
             }
            },
            "type": "scatterternary"
           }
          ],
          "surface": [
           {
            "colorbar": {
             "outlinewidth": 0,
             "ticks": ""
            },
            "colorscale": [
             [
              0,
              "#0d0887"
             ],
             [
              0.1111111111111111,
              "#46039f"
             ],
             [
              0.2222222222222222,
              "#7201a8"
             ],
             [
              0.3333333333333333,
              "#9c179e"
             ],
             [
              0.4444444444444444,
              "#bd3786"
             ],
             [
              0.5555555555555556,
              "#d8576b"
             ],
             [
              0.6666666666666666,
              "#ed7953"
             ],
             [
              0.7777777777777778,
              "#fb9f3a"
             ],
             [
              0.8888888888888888,
              "#fdca26"
             ],
             [
              1,
              "#f0f921"
             ]
            ],
            "type": "surface"
           }
          ],
          "table": [
           {
            "cells": {
             "fill": {
              "color": "#EBF0F8"
             },
             "line": {
              "color": "white"
             }
            },
            "header": {
             "fill": {
              "color": "#C8D4E3"
             },
             "line": {
              "color": "white"
             }
            },
            "type": "table"
           }
          ]
         },
         "layout": {
          "annotationdefaults": {
           "arrowcolor": "#2a3f5f",
           "arrowhead": 0,
           "arrowwidth": 1
          },
          "autotypenumbers": "strict",
          "coloraxis": {
           "colorbar": {
            "outlinewidth": 0,
            "ticks": ""
           }
          },
          "colorscale": {
           "diverging": [
            [
             0,
             "#8e0152"
            ],
            [
             0.1,
             "#c51b7d"
            ],
            [
             0.2,
             "#de77ae"
            ],
            [
             0.3,
             "#f1b6da"
            ],
            [
             0.4,
             "#fde0ef"
            ],
            [
             0.5,
             "#f7f7f7"
            ],
            [
             0.6,
             "#e6f5d0"
            ],
            [
             0.7,
             "#b8e186"
            ],
            [
             0.8,
             "#7fbc41"
            ],
            [
             0.9,
             "#4d9221"
            ],
            [
             1,
             "#276419"
            ]
           ],
           "sequential": [
            [
             0,
             "#0d0887"
            ],
            [
             0.1111111111111111,
             "#46039f"
            ],
            [
             0.2222222222222222,
             "#7201a8"
            ],
            [
             0.3333333333333333,
             "#9c179e"
            ],
            [
             0.4444444444444444,
             "#bd3786"
            ],
            [
             0.5555555555555556,
             "#d8576b"
            ],
            [
             0.6666666666666666,
             "#ed7953"
            ],
            [
             0.7777777777777778,
             "#fb9f3a"
            ],
            [
             0.8888888888888888,
             "#fdca26"
            ],
            [
             1,
             "#f0f921"
            ]
           ],
           "sequentialminus": [
            [
             0,
             "#0d0887"
            ],
            [
             0.1111111111111111,
             "#46039f"
            ],
            [
             0.2222222222222222,
             "#7201a8"
            ],
            [
             0.3333333333333333,
             "#9c179e"
            ],
            [
             0.4444444444444444,
             "#bd3786"
            ],
            [
             0.5555555555555556,
             "#d8576b"
            ],
            [
             0.6666666666666666,
             "#ed7953"
            ],
            [
             0.7777777777777778,
             "#fb9f3a"
            ],
            [
             0.8888888888888888,
             "#fdca26"
            ],
            [
             1,
             "#f0f921"
            ]
           ]
          },
          "colorway": [
           "#636efa",
           "#EF553B",
           "#00cc96",
           "#ab63fa",
           "#FFA15A",
           "#19d3f3",
           "#FF6692",
           "#B6E880",
           "#FF97FF",
           "#FECB52"
          ],
          "font": {
           "color": "#2a3f5f"
          },
          "geo": {
           "bgcolor": "white",
           "lakecolor": "white",
           "landcolor": "#E5ECF6",
           "showlakes": true,
           "showland": true,
           "subunitcolor": "white"
          },
          "hoverlabel": {
           "align": "left"
          },
          "hovermode": "closest",
          "mapbox": {
           "style": "light"
          },
          "paper_bgcolor": "white",
          "plot_bgcolor": "#E5ECF6",
          "polar": {
           "angularaxis": {
            "gridcolor": "white",
            "linecolor": "white",
            "ticks": ""
           },
           "bgcolor": "#E5ECF6",
           "radialaxis": {
            "gridcolor": "white",
            "linecolor": "white",
            "ticks": ""
           }
          },
          "scene": {
           "xaxis": {
            "backgroundcolor": "#E5ECF6",
            "gridcolor": "white",
            "gridwidth": 2,
            "linecolor": "white",
            "showbackground": true,
            "ticks": "",
            "zerolinecolor": "white"
           },
           "yaxis": {
            "backgroundcolor": "#E5ECF6",
            "gridcolor": "white",
            "gridwidth": 2,
            "linecolor": "white",
            "showbackground": true,
            "ticks": "",
            "zerolinecolor": "white"
           },
           "zaxis": {
            "backgroundcolor": "#E5ECF6",
            "gridcolor": "white",
            "gridwidth": 2,
            "linecolor": "white",
            "showbackground": true,
            "ticks": "",
            "zerolinecolor": "white"
           }
          },
          "shapedefaults": {
           "line": {
            "color": "#2a3f5f"
           }
          },
          "ternary": {
           "aaxis": {
            "gridcolor": "white",
            "linecolor": "white",
            "ticks": ""
           },
           "baxis": {
            "gridcolor": "white",
            "linecolor": "white",
            "ticks": ""
           },
           "bgcolor": "#E5ECF6",
           "caxis": {
            "gridcolor": "white",
            "linecolor": "white",
            "ticks": ""
           }
          },
          "title": {
           "x": 0.05
          },
          "xaxis": {
           "automargin": true,
           "gridcolor": "white",
           "linecolor": "white",
           "ticks": "",
           "title": {
            "standoff": 15
           },
           "zerolinecolor": "white",
           "zerolinewidth": 2
          },
          "yaxis": {
           "automargin": true,
           "gridcolor": "white",
           "linecolor": "white",
           "ticks": "",
           "title": {
            "standoff": 15
           },
           "zerolinecolor": "white",
           "zerolinewidth": 2
          }
         }
        },
        "title": {
         "text": "Success Rate Within Top N Recommends"
        },
        "xaxis": {
         "title": {
          "text": "Success Rate"
         }
        },
        "yaxis": {
         "autorange": "reversed",
         "tickvals": [
          1,
          10,
          20,
          30
         ],
         "title": {
          "text": "N"
         }
        }
       }
      }
     },
     "metadata": {},
     "output_type": "display_data"
    }
   ],
   "source": [
    "import plotly.graph_objects as go\n",
    "\n",
    "n_values = [1, 10, 20, 30]\n",
    "success_rates = [14/40, 24/40, 25/40, 29/40]\n",
    "\n",
    "fig = go.Figure(go.Bar(\n",
    "            x=success_rates,\n",
    "            y=n_values,\n",
    "            orientation='h',\n",
    "            marker_line_color='rgb(8,48,107)',\n",
    "            marker_line_width=1.5,\n",
    "            opacity=0.6,\n",
    "            text=success_rates,\n",
    "            textposition='inside'\n",
    "))\n",
    "\n",
    "fig.update_layout(title='Success Rate Within Top N Recommends',\n",
    "                  yaxis=dict(title='N', tickvals=n_values, autorange='reversed'),\n",
    "                  xaxis=dict(title='Success Rate'))\n",
    "\n",
    "fig.show()\n"
   ]
  },
  {
   "cell_type": "code",
   "execution_count": null,
   "metadata": {},
   "outputs": [],
   "source": []
  }
 ],
 "metadata": {
  "kernelspec": {
   "display_name": "spenv",
   "language": "python",
   "name": "python3"
  },
  "language_info": {
   "codemirror_mode": {
    "name": "ipython",
    "version": 3
   },
   "file_extension": ".py",
   "mimetype": "text/x-python",
   "name": "python",
   "nbconvert_exporter": "python",
   "pygments_lexer": "ipython3",
   "version": "3.11.2"
  },
  "orig_nbformat": 4
 },
 "nbformat": 4,
 "nbformat_minor": 2
}
