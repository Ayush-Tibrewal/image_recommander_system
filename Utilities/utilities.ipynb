{
 "cells": [
  {
   "cell_type": "code",
   "execution_count": 1,
   "metadata": {},
   "outputs": [],
   "source": [
    "import os\n",
    "import random\n",
    "import shutil\n",
    "from PIL import Image\n",
    "import csv"
   ]
  },
  {
   "cell_type": "code",
   "execution_count": 2,
   "metadata": {},
   "outputs": [],
   "source": [
    "def duplicate_images(source_dir, destination_dir, num_images_to_duplicate, destination_folder_name):\n",
    "    # create the destination directory if it doesn't exist\n",
    "    os.makedirs(os.path.join(destination_dir, destination_folder_name), exist_ok=True)\n",
    "\n",
    "    # get a list of all image files in the source directory\n",
    "    image_files = [f for f in os.listdir(source_dir) if f.endswith('.jpg') or f.endswith('.png')]\n",
    "\n",
    "    # randomly select images to duplicate\n",
    "    images_to_duplicate = random.sample(image_files, num_images_to_duplicate)\n",
    "\n",
    "    # copy the selected images to the destination directory\n",
    "    for image_file in images_to_duplicate:\n",
    "        source_path = os.path.join(source_dir, image_file)\n",
    "        destination_path = os.path.join(destination_dir, destination_folder_name, image_file)\n",
    "        shutil.copyfile(source_path, destination_path)"
   ]
  },
  {
   "cell_type": "code",
   "execution_count": 3,
   "metadata": {},
   "outputs": [],
   "source": [
    "source_dir = '/Users/chrisguan/Documents/senior_project/dataset/new/original-test/coco_test_2017'\n",
    "destination_dir = '/Users/chrisguan/Documents/senior_project/dataset/new/random_select'\n",
    "num_images_to_duplicate = 5\n",
    "destination_folder_name = 'coco_dup_test_5'\n",
    "\n",
    "duplicate_images(source_dir, destination_dir, num_images_to_duplicate, destination_folder_name)"
   ]
  },
  {
   "cell_type": "code",
   "execution_count": 21,
   "metadata": {},
   "outputs": [],
   "source": [
    "def copy_images(input_folder, output_folder, num_images):\n",
    "    # Create the output folder if it doesn't exist\n",
    "    if not os.path.exists(output_folder):\n",
    "        os.makedirs(output_folder)\n",
    "    \n",
    "    # Get the list of image files in the input folder\n",
    "    image_files = [f for f in os.listdir(input_folder) if f.endswith('.jpg') or f.endswith('.png')]\n",
    "    \n",
    "    # Sort the image files in ascending order\n",
    "    image_files.sort()\n",
    "    \n",
    "    # Copy the specified number of images to the output folder\n",
    "    for i, filename in enumerate(image_files[:num_images]):\n",
    "        input_path = os.path.join(input_folder, filename)\n",
    "        output_path = os.path.join(output_folder, filename)\n",
    "        shutil.copyfile(input_path, output_path)\n",
    "        os.remove(input_path)\n",
    "        \n",
    "        # If we've reached the desired number of images, break out of the loop\n",
    "        if i + 1 == num_images:\n",
    "            break"
   ]
  },
  {
   "cell_type": "code",
   "execution_count": 22,
   "metadata": {},
   "outputs": [],
   "source": [
    "input_folder = '/Users/chrisguan/Documents/senior_project/dataset/new/original-test/coco_test_2017'\n",
    "output_folder = '/Users/chrisguan/Documents/senior_project/dataset/new/images'\n",
    "\n",
    "copy_images(input_folder, output_folder, 300)"
   ]
  },
  {
   "cell_type": "code",
   "execution_count": 6,
   "metadata": {},
   "outputs": [],
   "source": [
    "def combine_csv_files(input_dir, output_file):\n",
    "    with open(output_file, 'w', newline='') as output_csv:\n",
    "        csv_writer = csv.writer(output_csv)\n",
    "        \n",
    "        # Recursively loop over all directories in the input directory\n",
    "        for dirpath, dirnames, filenames in os.walk(input_dir):\n",
    "            # Loop over all CSV files in the current directory\n",
    "            for filename in filenames:\n",
    "                if filename.endswith('.csv'):\n",
    "                    with open(os.path.join(dirpath, filename), newline='') as input_csv:\n",
    "                        csv_reader = csv.reader(input_csv)\n",
    "                        \n",
    "                        # Skip the header row of the input CSV file\n",
    "                        next(csv_reader)\n",
    "                        \n",
    "                        # Add all rows from the current CSV file to the output CSV\n",
    "                        for row in csv_reader:\n",
    "                            csv_writer.writerow(row)\n"
   ]
  },
  {
   "cell_type": "code",
   "execution_count": 7,
   "metadata": {},
   "outputs": [],
   "source": [
    "input_dir = '/Users/chrisguan/Documents/senior_project/dataset/new/random_select/csv'\n",
    "combine_csv_files(input_dir, 'output.csv')"
   ]
  },
  {
   "cell_type": "code",
   "execution_count": 14,
   "metadata": {},
   "outputs": [],
   "source": [
    "def copy_folder_to_new_folder(source_folder, destination_folder):\n",
    "    # Create the destination folder if it doesn't exist\n",
    "    if not os.path.exists(destination_folder):\n",
    "        os.makedirs(destination_folder)\n",
    "    \n",
    "    # Copy all files from the source folder and its subfolders to the destination folder\n",
    "    for root, dirs, files in os.walk(source_folder):\n",
    "        for filename in files:\n",
    "            source_file = os.path.join(root, filename)\n",
    "            shutil.copy(source_file, destination_folder)"
   ]
  },
  {
   "cell_type": "code",
   "execution_count": 15,
   "metadata": {},
   "outputs": [],
   "source": [
    "source_dir = '/Users/chrisguan/Documents/senior_project/dataset/new/random_select/image'\n",
    "destination_dir = '/Users/chrisguan/Documents/senior_project/dataset/new/images'\n",
    "\n",
    "copy_folder_to_new_folder(source_dir, destination_dir)"
   ]
  },
  {
   "cell_type": "code",
   "execution_count": 8,
   "metadata": {},
   "outputs": [],
   "source": [
    "import csv\n",
    "import json\n",
    "\n",
    "csv_file_path = '/Users/chrisguan/Documents/senior_project/dataset/new/output.csv'\n",
    "json_file_path = '/Users/chrisguan/Documents/senior_project/dataset/new/output.json'\n",
    "\n",
    "# Read the CSV file into a list of dictionaries\n",
    "with open(csv_file_path, 'r') as csv_file:\n",
    "    reader = csv.DictReader(csv_file)\n",
    "    rows = list(reader)\n",
    "\n",
    "# Write the list of dictionaries to a JSON file\n",
    "with open(json_file_path, 'w') as json_file:\n",
    "    json.dump(rows, json_file)"
   ]
  }
 ],
 "metadata": {
  "kernelspec": {
   "display_name": "Python 3",
   "language": "python",
   "name": "python3"
  },
  "language_info": {
   "codemirror_mode": {
    "name": "ipython",
    "version": 3
   },
   "file_extension": ".py",
   "mimetype": "text/x-python",
   "name": "python",
   "nbconvert_exporter": "python",
   "pygments_lexer": "ipython3",
   "version": "3.9.6"
  },
  "orig_nbformat": 4
 },
 "nbformat": 4,
 "nbformat_minor": 2
}
