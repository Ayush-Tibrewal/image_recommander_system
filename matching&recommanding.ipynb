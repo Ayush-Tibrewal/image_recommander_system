{
 "cells": [
  {
   "cell_type": "code",
   "execution_count": 165,
   "metadata": {},
   "outputs": [],
   "source": [
    "%%capture\n",
    "import pandas as pd\n",
    "import os\n",
    "from sentence_transformers import SentenceTransformer\n",
    "from sklearn.metrics.pairwise import cosine_similarity\n",
    "import subprocess"
   ]
  },
  {
   "cell_type": "code",
   "execution_count": 166,
   "metadata": {},
   "outputs": [
    {
     "data": {
      "text/plain": [
       "(1000, 384)"
      ]
     },
     "execution_count": 166,
     "metadata": {},
     "output_type": "execute_result"
    }
   ],
   "source": [
    "df = pd.read_csv('/Users/chrisguan/Documents/senior_project/dataset/cleaned_1k/captions/image_1k_cap.csv', index_col=0)\n",
    "model = SentenceTransformer('sentence-transformers/all-MiniLM-L6-v2')\n",
    "embeddings = model.encode(list(df['cap']))\n",
    "embeddings.shape"
   ]
  },
  {
   "cell_type": "code",
   "execution_count": 171,
   "metadata": {},
   "outputs": [],
   "source": [
    "imageLike = input(\"Search for Photos: \")\n",
    "embeddings_input = model.encode(imageLike)"
   ]
  },
  {
   "attachments": {},
   "cell_type": "markdown",
   "metadata": {},
   "source": [
    "### Three Methods"
   ]
  },
  {
   "cell_type": "code",
   "execution_count": 168,
   "metadata": {},
   "outputs": [],
   "source": [
    "import os\n",
    "import pandas as pd\n",
    "\n",
    "IMAGE_DIR = os.path.join(os.path.expanduser('~'), 'Documents', 'senior_project', 'dataset', 'cleaned_1k', 'images_1K')\n",
    "\n",
    "def get_similarity_scores(method):\n",
    "    if method == 'cosine_similarity':\n",
    "        return cosine_similarity(\n",
    "            [embeddings_input],\n",
    "            embeddings[0:]\n",
    "        )[0].tolist()\n",
    "    elif method == 'euclidean_distance':\n",
    "        return euclidean_distances(\n",
    "            [embeddings_input],\n",
    "            embeddings[0:]\n",
    "        )[0].tolist()\n",
    "    elif method == 'manhattan_distances':\n",
    "        return euclidean_distances(\n",
    "            [embeddings_input],\n",
    "            embeddings[0:]\n",
    "        )[0].tolist()\n",
    "    # add other similarity measures here as needed\n",
    "    else:\n",
    "        raise ValueError(f\"Unknown similarity method '{method}'\")\n",
    "\n",
    "def return_image(number, method):\n",
    "    df[f'{method}'] = get_similarity_scores(method)\n",
    "\n",
    "    if method == 'cosine_similarity':\n",
    "        table = df.nlargest(number, f'{method}')\n",
    "    elif method == 'euclidean_distance':\n",
    "        table = df.nsmallest(number, f'{method}')\n",
    "    elif method == 'manhattan_distances':\n",
    "        table = df.nsmallest(number, f'{method}')\n",
    "    else:\n",
    "        raise ValueError(f\"Unknown similarity method '{method}'\")\n",
    "    \n",
    "    \n",
    "    for num in table['num']:\n",
    "        image_path = path + str(num) +'.jpg'\n",
    "        print(f\"{image_path}\")\n",
    "        # subprocess.call([\"open\", \"-a\", \"Preview\", image_path])\n",
    "\n",
    "    return table\n"
   ]
  },
  {
   "cell_type": "code",
   "execution_count": 172,
   "metadata": {},
   "outputs": [
    {
     "name": "stdout",
     "output_type": "stream",
     "text": [
      "/Users/chrisguan/Documents/senior_project/dataset/cleaned_1k/images_1K/330.jpg\n",
      "/Users/chrisguan/Documents/senior_project/dataset/cleaned_1k/images_1K/443.jpg\n",
      "/Users/chrisguan/Documents/senior_project/dataset/cleaned_1k/images_1K/275.jpg\n",
      "/Users/chrisguan/Documents/senior_project/dataset/cleaned_1k/images_1K/86.jpg\n",
      "/Users/chrisguan/Documents/senior_project/dataset/cleaned_1k/images_1K/405.jpg\n"
     ]
    },
    {
     "data": {
      "text/html": [
       "<div>\n",
       "<style scoped>\n",
       "    .dataframe tbody tr th:only-of-type {\n",
       "        vertical-align: middle;\n",
       "    }\n",
       "\n",
       "    .dataframe tbody tr th {\n",
       "        vertical-align: top;\n",
       "    }\n",
       "\n",
       "    .dataframe thead th {\n",
       "        text-align: right;\n",
       "    }\n",
       "</style>\n",
       "<table border=\"1\" class=\"dataframe\">\n",
       "  <thead>\n",
       "    <tr style=\"text-align: right;\">\n",
       "      <th></th>\n",
       "      <th>num</th>\n",
       "      <th>cap</th>\n",
       "      <th>cosine_similarity</th>\n",
       "    </tr>\n",
       "  </thead>\n",
       "  <tbody>\n",
       "    <tr>\n",
       "      <th>19</th>\n",
       "      <td>330</td>\n",
       "      <td>two girls playing basketballone of which has t...</td>\n",
       "      <td>0.373330</td>\n",
       "    </tr>\n",
       "    <tr>\n",
       "      <th>132</th>\n",
       "      <td>443</td>\n",
       "      <td>a group of girls with the number 3 on their sh...</td>\n",
       "      <td>0.337855</td>\n",
       "    </tr>\n",
       "    <tr>\n",
       "      <th>214</th>\n",
       "      <td>275</td>\n",
       "      <td>a group of cheerleaders are walking in front o...</td>\n",
       "      <td>0.337108</td>\n",
       "    </tr>\n",
       "    <tr>\n",
       "      <th>25</th>\n",
       "      <td>86</td>\n",
       "      <td>a group of female softball players pose for a ...</td>\n",
       "      <td>0.254173</td>\n",
       "    </tr>\n",
       "    <tr>\n",
       "      <th>94</th>\n",
       "      <td>405</td>\n",
       "      <td>two women playing basketballone of which has t...</td>\n",
       "      <td>0.221717</td>\n",
       "    </tr>\n",
       "  </tbody>\n",
       "</table>\n",
       "</div>"
      ],
      "text/plain": [
       "     num                                                cap  cosine_similarity\n",
       "19   330  two girls playing basketballone of which has t...           0.373330\n",
       "132  443  a group of girls with the number 3 on their sh...           0.337855\n",
       "214  275  a group of cheerleaders are walking in front o...           0.337108\n",
       "25    86  a group of female softball players pose for a ...           0.254173\n",
       "94   405  two women playing basketballone of which has t...           0.221717"
      ]
     },
     "execution_count": 172,
     "metadata": {},
     "output_type": "execute_result"
    }
   ],
   "source": [
    "return_image(5, 'cosine_similarity')"
   ]
  },
  {
   "attachments": {},
   "cell_type": "markdown",
   "metadata": {},
   "source": [
    "### cosine_similarity"
   ]
  },
  {
   "cell_type": "code",
   "execution_count": null,
   "metadata": {},
   "outputs": [],
   "source": [
    "df['cosine_similarity'] = cosine_similarity(\n",
    "    [embeddings_input],\n",
    "    embeddings[0:]\n",
    ")[0].tolist()\n",
    "\n",
    "\n",
    "path = '/Users/chrisguan/Documents/senior_project/dataset/cleaned_1k/images_1K/'\n",
    "\n",
    "def return_image(number, method):\n",
    "    \n",
    "    df[f'{method}'] = cosine_similarity(\n",
    "    [embeddings_input],\n",
    "    embeddings[0:]\n",
    "    )[0].tolist()\n",
    "    \n",
    "    table = df.nlargest(number, f'{method}')\n",
    "    \n",
    "    for num in table['num']:\n",
    "        image_path = path + str(num) +'.jpg'\n",
    "        print(f\"{image_path}\")\n",
    "        # subprocess.call([\"open\", \"-a\", \"Preview\", image_path])\n",
    "\n",
    "    return table\n",
    "    \n",
    "    \n",
    "return_image(3, 'cosine_similarity')"
   ]
  }
 ],
 "metadata": {
  "kernelspec": {
   "display_name": "sn_pj_env",
   "language": "python",
   "name": "python3"
  },
  "language_info": {
   "codemirror_mode": {
    "name": "ipython",
    "version": 3
   },
   "file_extension": ".py",
   "mimetype": "text/x-python",
   "name": "python",
   "nbconvert_exporter": "python",
   "pygments_lexer": "ipython3",
   "version": "3.10.8"
  },
  "orig_nbformat": 4,
  "vscode": {
   "interpreter": {
    "hash": "e3292ce013454e00b22d0841a4891479dd1bd6f787583e9e5db2e1ca9526a9df"
   }
  }
 },
 "nbformat": 4,
 "nbformat_minor": 2
}
